{
 "cells": [
  {
   "cell_type": "markdown",
   "metadata": {},
   "source": [
    "# Medicare RX Spending from 2010 to 2015\n",
    "\n",
    "Organized by Team Gold Experience: Jerome Amose, Racine Ellis, Shawn Varghese, Charles Phil, and Travis Lucas"
   ]
  },
  {
   "cell_type": "code",
   "execution_count": null,
   "metadata": {},
   "outputs": [],
   "source": []
  }
 ],
 "metadata": {
  "interpreter": {
   "hash": "43c138dfbf2410da37bb9ab13b7cd5f7eee07e37935b7659c8a1008ad263e8ec"
  },
  "kernelspec": {
   "display_name": "Python 3.7.11 ('PythonData')",
   "language": "python",
   "name": "python3"
  },
  "language_info": {
   "name": "python",
   "version": "3.7.11"
  },
  "orig_nbformat": 4
 },
 "nbformat": 4,
 "nbformat_minor": 2
}
